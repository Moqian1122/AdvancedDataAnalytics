{
 "cells": [
  {
   "cell_type": "markdown",
   "id": "2be934e6-e523-4d30-aa7a-dbd12119fb01",
   "metadata": {},
   "source": [
    "# Assignment 3: streaming analytics on text data"
   ]
  },
  {
   "cell_type": "markdown",
   "id": "5cf04691-4714-40b7-b5ea-3d14c8e7ec4c",
   "metadata": {},
   "source": [
    "## Spark setting and data import"
   ]
  },
  {
   "cell_type": "markdown",
   "id": "3d5296fe-77da-4ecb-8484-bd5faa0c80f9",
   "metadata": {},
   "source": [
    "The first step is to introduce saved stories collected via Spark. For sake of model performance, dataframe used is Saprk Dataframe instead of RDD or Pandas Dataframe. First of all, a PySpark environment has been set up. The saved stories is read through."
   ]
  },
  {
   "cell_type": "code",
   "execution_count": null,
   "id": "b4e8d30c-adf5-4615-ba55-701129b84f1e",
   "metadata": {},
   "outputs": [],
   "source": [
    "from pyspark.sql.functions import col\n",
    "\n",
    "\n",
    "\n",
    "\n",
    "\n"
   ]
  },
  {
   "cell_type": "code",
   "execution_count": 14,
   "id": "08b82eb1-2138-4b2c-9047-f434ea6708ca",
   "metadata": {},
   "outputs": [
    {
     "data": {
      "text/html": [
       "\n",
       "        <div>\n",
       "            <p><b>SparkContext</b></p>\n",
       "\n",
       "            <p><a href=\"http://10.46.214.151:4041\">Spark UI</a></p>\n",
       "\n",
       "            <dl>\n",
       "              <dt>Version</dt>\n",
       "                <dd><code>v3.5.1</code></dd>\n",
       "              <dt>Master</dt>\n",
       "                <dd><code>local[*]</code></dd>\n",
       "              <dt>AppName</dt>\n",
       "                <dd><code>PySparkShell</code></dd>\n",
       "            </dl>\n",
       "        </div>\n",
       "        "
      ],
      "text/plain": [
       "<SparkContext master=local[*] appName=PySparkShell>"
      ]
     },
     "execution_count": 14,
     "metadata": {},
     "output_type": "execute_result"
    }
   ],
   "source": [
    "sc"
   ]
  },
  {
   "cell_type": "code",
   "execution_count": 15,
   "id": "5e558ca6-01ae-404d-834c-bb48a4ac0b18",
   "metadata": {},
   "outputs": [
    {
     "data": {
      "text/html": [
       "\n",
       "            <div>\n",
       "                <p><b>SparkSession - hive</b></p>\n",
       "                \n",
       "        <div>\n",
       "            <p><b>SparkContext</b></p>\n",
       "\n",
       "            <p><a href=\"http://10.46.214.151:4041\">Spark UI</a></p>\n",
       "\n",
       "            <dl>\n",
       "              <dt>Version</dt>\n",
       "                <dd><code>v3.5.1</code></dd>\n",
       "              <dt>Master</dt>\n",
       "                <dd><code>local[*]</code></dd>\n",
       "              <dt>AppName</dt>\n",
       "                <dd><code>PySparkShell</code></dd>\n",
       "            </dl>\n",
       "        </div>\n",
       "        \n",
       "            </div>\n",
       "        "
      ],
      "text/plain": [
       "<pyspark.sql.session.SparkSession at 0x20a2a018e90>"
      ]
     },
     "execution_count": 15,
     "metadata": {},
     "output_type": "execute_result"
    }
   ],
   "source": [
    "spark"
   ]
  },
  {
   "cell_type": "code",
   "execution_count": 131,
   "id": "a7ce2783-b61f-4efc-9a24-69a9631f7078",
   "metadata": {},
   "outputs": [
    {
     "name": "stdout",
     "output_type": "stream",
     "text": [
      "+--------+--------+--------------------+---------+-------------------+--------------------+--------------------+--------------------+--------------------+--------------+-----+\n",
      "|     aid|comments|              domain|frontpage|          posted_at|         source_text|        source_title|               title|                 url|          user|votes|\n",
      "+--------+--------+--------------------+---------+-------------------+--------------------+--------------------+--------------------+--------------------+--------------+-----+\n",
      "|39988880|       0|themeasureofaplan...|    false|2024-04-10 09:57:10|Moonshine Money: ...|Moonshine Money: ...|Moonshine Money: ...|https://themeasur...|getToTheChopin|    3|\n",
      "|39988889|       0|    scitechdaily.com|    false|2024-04-10 09:58:28|New Jurassic Foss...|New Jurassic Foss...|New Jurassic Foss...|https://scitechda...|    isaacfrond|    1|\n",
      "|39988912|       0|           proton.me|    false|2024-04-10 10:01:14|Proton and Standa...|Proton and Standa...|Proton and Standa...|https://proton.me...|          BafS|    3|\n",
      "|39988922|       0|          codacy.com|    false|2024-04-10 10:02:54|Should Open-Sourc...|Should Open-Sourc...|Should Open Sourc...|https://blog.coda...|       hmoraes|    1|\n",
      "|39988926|       0|         youtube.com|    false|2024-04-10 10:03:36|Before you contin...|Before you contin...|40 Years of Rent ...|https://www.youtu...|          ksec|    1|\n",
      "|39988925|       0|      huggingface.co|    false|2024-04-10 10:03:36|DS-MoE: Making Mo...|DS-MoE: Making Mo...|DS-Moe: Making Mo...|https://huggingfa...|  victormustar|    1|\n",
      "|39988948|       0|    github.com/dsnet|     true|2024-04-10 10:07:47|compress/doc/bzip...|compress/doc/bzip...|Bzip2 Format Spec...|https://github.co...|       signa11|    4|\n",
      "|39988959|       0|  foreignaffairs.com|    false|2024-04-10 10:09:17|No Substitute for...|No Substitute for...|No Substitute for...|https://www.forei...|    keepamovin|    1|\n",
      "|39988968|       0|             wsj.com|     true|2024-04-10 10:10:23|         wsj.com\\n\\n|             wsj.com|The Black Market ...|https://www.wsj.c...|         croes|    3|\n",
      "|39988983|       0|           yahoo.com|    false|2024-04-10 10:11:50|Yahooist Teil der...|Yahooist Teil der...|Bending Spoons to...|https://finance.y...|    elsombrero|    2|\n",
      "|39988993|       2|  matheusportela.com|     true|2024-04-10 10:13:23|Double-Entry Book...|Double-Entry Book...|Double-Entry Book...|https://matheuspo...|      mportela|   11|\n",
      "|39989011|       0|visakanv.substack...|    false|2024-04-10 10:15:42|Are you serious? ...|    Are you serious?|    Are You Serious?|https://visakanv....| lloydatkinson|    1|\n",
      "|39989017|       0|        hopsworks.ai|    false|2024-04-10 10:16:25|What is Flash Att...|What is Flash Att...|Introduction to F...|https://www.hopsw...|    javierdlrm|    3|\n",
      "|39989066|       0|  hindustantimes.com|    false|2024-04-10 10:23:12|5 ways social med...|5 ways social med...|How social media,...|https://www.hindu...|      Info_Teh|    1|\n",
      "|39989108|       0|     theregister.com|     true|2024-04-10 10:30:03|TSMC boss says on...|TSMC boss says on...|TSMC boss says on...|https://www.there...|     PaulHoule|    4|\n",
      "|39989111|       0|            ssrn.com|    false|2024-04-10 10:31:16|Meta's Pay-or-Oka...|Meta's Pay-or-Oka...|Meta's Pay-or-Oka...|https://papers.ss...|        latexr|    1|\n",
      "|39989113|       0|twitter.com/liamb...|    false|2024-04-10 10:31:24|Liam Bolling on X...|Liam Bolling on X...|It's a big day fo...|https://twitter.c...|        doener|    2|\n",
      "|39989171|       0|twitter.com/elder...|    false|2024-04-10 10:41:07|X\\n\\nDon’t miss w...|                   X|Gemini System Pro...|https://twitter.c...|          tosh|    2|\n",
      "|39989179|       0|storage.googleapi...|    false|2024-04-10 10:42:01|                NULL|                NULL|RecurrentGemma: M...|https://storage.g...|   alekandreev|    1|\n",
      "|39989180|       0|             wooo.sh|    false|2024-04-10 10:42:04|Page not found · ...|Page not found · ...|Computing Adler32...|https://wooo.sh/a...|         fanf2|    1|\n",
      "+--------+--------+--------------------+---------+-------------------+--------------------+--------------------+--------------------+--------------------+--------------+-----+\n",
      "only showing top 20 rows\n",
      "\n"
     ]
    },
    {
     "data": {
      "text/plain": [
       "1346"
      ]
     },
     "execution_count": 131,
     "metadata": {},
     "output_type": "execute_result"
    }
   ],
   "source": [
    "# Read through all the subdirectories saved\n",
    "df = spark.read.json(\"C:/Users/Admin/Advanced Analytics for Bid Data World/Assignment 3/saved_stories/*\")\n",
    "\n",
    "# Show top 20 rows to observe whether it is correctly formatted and count\n",
    "df.show()\n",
    "df.count()"
   ]
  },
  {
   "cell_type": "markdown",
   "id": "569975a2-e449-4f47-bdbd-e52552c492bd",
   "metadata": {},
   "source": [
    "## Preprocession"
   ]
  },
  {
   "cell_type": "markdown",
   "id": "ecd0f6e9-e53c-40f1-9985-019ea1176d26",
   "metadata": {},
   "source": [
    "Transaformations on the Spark Dataframe is executed for model training."
   ]
  },
  {
   "cell_type": "markdown",
   "id": "fc594d7a-492e-4842-ae70-1d96c34175d7",
   "metadata": {},
   "source": [
    "### Removing duplicates"
   ]
  },
  {
   "cell_type": "code",
   "execution_count": 132,
   "id": "af7aee8b-2d7d-4ce8-b76c-e1efe13bccbf",
   "metadata": {},
   "outputs": [
    {
     "data": {
      "text/plain": [
       "792"
      ]
     },
     "execution_count": 132,
     "metadata": {},
     "output_type": "execute_result"
    }
   ],
   "source": [
    "# Remove duplicate rows and count\n",
    "df = df.dropDuplicates()\n",
    "df.count()"
   ]
  },
  {
   "cell_type": "code",
   "execution_count": 133,
   "id": "cda44cbb-42f2-4777-b00f-21405e934d67",
   "metadata": {},
   "outputs": [],
   "source": [
    "df = df.withColumn('frontpage', when(df.frontpage==True, 1).otherwise(0))"
   ]
  },
  {
   "cell_type": "code",
   "execution_count": 134,
   "id": "bae6acfe-c712-4b45-8597-c7b4d3d2490a",
   "metadata": {},
   "outputs": [
    {
     "name": "stdout",
     "output_type": "stream",
     "text": [
      "+--------+--------+--------------------+---------+-------------------+--------------------+--------------------+--------------------+--------------------+--------------+-----+\n",
      "|     aid|comments|              domain|frontpage|          posted_at|         source_text|        source_title|               title|                 url|          user|votes|\n",
      "+--------+--------+--------------------+---------+-------------------+--------------------+--------------------+--------------------+--------------------+--------------+-----+\n",
      "|39988706|       0|       wikipedia.org|        1|2024-04-10 09:29:10|Chess therapy - W...|       Chess therapy|       Chess Therapy|https://en.wikipe...|getToTheChopin|    4|\n",
      "|39998952|       0|          bps.org.uk|        0|2024-04-11 06:22:26|Will the debate a...|Will the debate a...|Will the debate a...|https://www.bps.o...|          wjb3|    1|\n",
      "|39989330|       0|           quora.com|        0|2024-04-10 11:05:12|How to remember t...|How do you rememb...|How to remember t...|https://www.quora...|       rossant|    1|\n",
      "|39996693|       2|github.com/miscel...|        0|2024-04-10 23:20:11|GitHub - Miscella...|GitHub - Miscella...|Show HN: Anterion...|https://github.co...|    miscstuffz|    3|\n",
      "|39988718|       2|          apnews.com|        1|2024-04-10 09:31:10|PFAS: EPA's new r...|Biden administrat...|U.S. imposes firs...|https://apnews.co...|          geox|   39|\n",
      "|39998538|       0|           arxiv.org|        0|2024-04-11 04:59:40|[2404.05961] LLM2...|LLM2Vec: Large La...|LLM2Vec: Large La...|https://arxiv.org...|       hoxmark|    1|\n",
      "|39999028|       0|nonsonotecnologic...|        0|2024-04-11 06:36:54|Quando Aggiorname...|Quando Aggiorname...|Quando Aggiorname...|https://nonsonote...|    metalluz77|    1|\n",
      "|40000622|       0|twitterfilesbrazi...|        1|2024-04-11 10:30:33|Brazil's Twitter ...|Brazil's Twitter ...|Brazil's Twitter ...|https://www.twitt...|        davikr|    4|\n",
      "|39988959|       0|  foreignaffairs.com|        0|2024-04-10 10:09:17|No Substitute for...|No Substitute for...|No Substitute for...|https://www.forei...|    keepamovin|    1|\n",
      "|39988742|       0|       samaltman.com|        0|2024-04-10 09:33:55|Moore's Law for E...|Moore's Law for E...|Moore's Law for E...|https://moores.sa...|       redbell|    1|\n",
      "|40000062|       0|             aeon.co|        0|2024-04-11 09:10:19|Why workplaces sh...|Why workplaces sh...|Workplaces should...|https://aeon.co/e...|       rbanffy|    1|\n",
      "|39989388|       0|       seoperate.com|        0|2024-04-10 11:16:43|SEOperate: Notion...|SEOperate: Notion...|SEO templates to ...|https://seoperate...|  NotionPlates|    2|\n",
      "|39999733|       0|       symflower.com|        0|2024-04-11 08:26:06|From bug detectio...|From bug detectio...|Categorizing soft...|https://symflower...|          tosh|    1|\n",
      "|39996314|       5|       matduggan.com|        1|2024-04-10 22:21:48|Why Can't My Mom ...|Why Can't My Mom ...|Why Can't My Mom ...|https://matduggan...|   FiloSottile|   30|\n",
      "|40000076|       0|          gentoo.org|        0|2024-04-11 09:12:24|Gentoo Linux beco...|Gentoo Linux beco...|Gentoo Linux beco...|https://www.gento...|      LaSombra|    1|\n",
      "|39999039|       0|aisongcovergenera...|        0|2024-04-11 06:39:23|AI Song Cover Gen...|AI Song Cover Gen...|Show HN: Free AI-...|https://aisongcov...|         merso|    1|\n",
      "|40000022|       0|    classroomio.site|        0|2024-04-11 09:04:44|ClassroomIO\\n\\nLo...|         ClassroomIO|Show HN: Classroo...|https://www.class...|     sgorawski|    1|\n",
      "|40001370|       0|clojure-goes-fast...|        0|2024-04-11 12:24:16|Clojure's slow st...|Clojure's slow st...|Clojure's slow st...|https://clojure-g...|   goranmoomin|    2|\n",
      "|39995921|       0|     frontiersin.org|        0|2024-04-10 21:29:02|Frontiers | Seism...|Seismic attenuati...|Seismic Attenuati...|https://www.front...|    SkyMarshal|    1|\n",
      "|39998524|       0|        belkadan.com|        0|2024-04-11 04:57:47|Run-time Polymorp...|Run-time Polymorp...|Run-Time Polymorp...|https://belkadan....|   goranmoomin|    1|\n",
      "+--------+--------+--------------------+---------+-------------------+--------------------+--------------------+--------------------+--------------------+--------------+-----+\n",
      "only showing top 20 rows\n",
      "\n"
     ]
    }
   ],
   "source": [
    "df.show()"
   ]
  },
  {
   "cell_type": "code",
   "execution_count": 137,
   "id": "6ae2a15b-b6b5-4410-8450-742295bf7ccb",
   "metadata": {},
   "outputs": [
    {
     "name": "stdout",
     "output_type": "stream",
     "text": [
      "+--------+---------+--------------------+-----+\n",
      "|comments|frontpage|         source_text|votes|\n",
      "+--------+---------+--------------------+-----+\n",
      "|       0|        1|Chess therapy - W...|    4|\n",
      "|       0|        0|Will the debate a...|    1|\n",
      "|       0|        0|How to remember t...|    1|\n",
      "|       2|        0|GitHub - Miscella...|    3|\n",
      "|       2|        1|PFAS: EPA's new r...|   39|\n",
      "|       0|        0|[2404.05961] LLM2...|    1|\n",
      "|       0|        0|Quando Aggiorname...|    1|\n",
      "|       0|        1|Brazil's Twitter ...|    4|\n",
      "|       0|        0|No Substitute for...|    1|\n",
      "|       0|        0|Moore's Law for E...|    1|\n",
      "|       0|        0|Why workplaces sh...|    1|\n",
      "|       0|        0|SEOperate: Notion...|    2|\n",
      "|       0|        0|From bug detectio...|    1|\n",
      "|       5|        1|Why Can't My Mom ...|   30|\n",
      "|       0|        0|Gentoo Linux beco...|    1|\n",
      "|       0|        0|AI Song Cover Gen...|    1|\n",
      "|       0|        0|ClassroomIO\\n\\nLo...|    1|\n",
      "|       0|        0|Clojure's slow st...|    2|\n",
      "|       0|        0|Frontiers | Seism...|    1|\n",
      "|       0|        0|Run-time Polymorp...|    1|\n",
      "|       0|        1|Kagi Search Chang...|   12|\n",
      "|      17|        1|Permission is her...|   82|\n",
      "|       2|        1|When teaching Com...|   12|\n",
      "|       0|        0|Here’s The Letter...|    1|\n",
      "|       0|        0|Guile Hoot v0.4.0...|    1|\n",
      "|       0|        0|Bidlytics - Your ...|    1|\n",
      "|      18|        1|HUAWEI MateBook X...|   20|\n",
      "|       0|        0|Lemmings - A comp...|    2|\n",
      "|       0|        0|GitHub - bennysch...|    1|\n",
      "|       0|        0|Missing Lithium i...|    1|\n",
      "|       0|        0|We discovered an ...|    4|\n",
      "|       0|        0|Distributed Graph...|    1|\n",
      "|       0|        0|Wayback Machine\\n...|    1|\n",
      "|       2|        1|Double-Entry Book...|   11|\n",
      "|       0|        0|Opinion: We're de...|    1|\n",
      "|       0|        0|Blip – The fastes...|    1|\n",
      "|       0|        0|Access to this pa...|    1|\n",
      "|       0|        0|Pompeii: Breathta...|    1|\n",
      "|       0|        0|Proton and Standa...|    3|\n",
      "|       0|        0|All Programming i...|    2|\n",
      "|       0|        0|DS-MoE: Making Mo...|    1|\n",
      "|       0|        0|Meta's Pay-or-Oka...|    1|\n",
      "|       0|        0|MiniGPT4-Video\\n\\...|    3|\n",
      "|       0|        0|FactJano - Did yo...|    1|\n",
      "|       0|        1|ESA Satellites to...|   10|\n",
      "|       0|        0|AI-5: I hope I’m ...|    1|\n",
      "|       0|        1|Building an AI Co...|    4|\n",
      "|       0|        0|ScienceDirect\\n\\n...|    4|\n",
      "|       0|        0|Chatbit – AI Chat...|    1|\n",
      "|       3|        0|Another A.I. Targ...|    2|\n",
      "+--------+---------+--------------------+-----+\n",
      "only showing top 50 rows\n",
      "\n"
     ]
    }
   ],
   "source": [
    "# Keep necessary columns ('source_title', 'frontpage', 'comments', 'votes', 'domain', 'posted_at') and show the transformed dataframe for check\n",
    "\n",
    "df = df.select(col('comments'), col('frontpage'), col('source_text'), col('votes'))\n",
    "df.show(50)"
   ]
  },
  {
   "cell_type": "markdown",
   "id": "3fc994cd-008f-427f-9dde-217d131f25fd",
   "metadata": {},
   "source": [
    "### Removing missing values"
   ]
  },
  {
   "cell_type": "code",
   "execution_count": 19,
   "id": "084d3f29-76b8-4de9-8202-da34a73e974e",
   "metadata": {},
   "outputs": [
    {
     "data": {
      "text/plain": [
       "791"
      ]
     },
     "execution_count": 19,
     "metadata": {},
     "output_type": "execute_result"
    }
   ],
   "source": [
    "# Missing values check: 2 types could be viewed as missing values, then count\n",
    "# Type 1: Page not found\n",
    "# Type 2: NULL\n",
    "df = df.where(df.source_text != 'Page not found')\n",
    "df.dropna()\n",
    "df.count()"
   ]
  },
  {
   "cell_type": "markdown",
   "id": "6fb8af23-bf6a-4d9c-9f40-a038b5363d5b",
   "metadata": {},
   "source": [
    "### Encoding the label column"
   ]
  },
  {
   "cell_type": "code",
   "execution_count": 20,
   "id": "afa49ccc-7bb6-4130-9e43-fd01bbcea521",
   "metadata": {},
   "outputs": [
    {
     "name": "stdout",
     "output_type": "stream",
     "text": [
      "+--------------------+---------+\n",
      "|         source_text|frontpage|\n",
      "+--------------------+---------+\n",
      "|Chess therapy - W...|        1|\n",
      "|Will the debate a...|        0|\n",
      "|How to remember t...|        0|\n",
      "|GitHub - Miscella...|        0|\n",
      "|PFAS: EPA's new r...|        1|\n",
      "|[2404.05961] LLM2...|        0|\n",
      "|Quando Aggiorname...|        0|\n",
      "|Brazil's Twitter ...|        1|\n",
      "|No Substitute for...|        0|\n",
      "|Moore's Law for E...|        0|\n",
      "|Why workplaces sh...|        0|\n",
      "|SEOperate: Notion...|        0|\n",
      "|From bug detectio...|        0|\n",
      "|Why Can't My Mom ...|        1|\n",
      "|Gentoo Linux beco...|        0|\n",
      "|AI Song Cover Gen...|        0|\n",
      "|ClassroomIO\\n\\nLo...|        0|\n",
      "|Clojure's slow st...|        0|\n",
      "|Frontiers | Seism...|        0|\n",
      "|Run-time Polymorp...|        0|\n",
      "+--------------------+---------+\n",
      "only showing top 20 rows\n",
      "\n"
     ]
    }
   ],
   "source": [
    "# Encode the label column 'frontpage' and show it to verify\n",
    "from pyspark.sql.functions import when\n",
    "\n",
    "df = df.withColumn('frontpage', when(df.frontpage==True, 1).otherwise(0))\n",
    "df.show()"
   ]
  },
  {
   "cell_type": "markdown",
   "id": "702a06e5-0268-4249-9959-a99295c1e597",
   "metadata": {},
   "source": [
    "### Removing punctuations, stopwords and tokenizing the text"
   ]
  },
  {
   "cell_type": "code",
   "execution_count": 21,
   "id": "08884ed8-19a4-4099-ab92-a0fd90675fa9",
   "metadata": {},
   "outputs": [],
   "source": [
    "# For text, remove the punctuations ('/\"/,/./:/-/?/!/:/|/[/])\n",
    "from pyspark.sql.functions import *\n",
    "\n",
    "df_punc_drop = df.withColumn('source_text', regexp_replace(df.source_text, '[^a-zA-Z0-9]', ' '))"
   ]
  },
  {
   "cell_type": "code",
   "execution_count": 22,
   "id": "04a3aa0c-3d10-4a37-9dfa-227f0018ab88",
   "metadata": {},
   "outputs": [
    {
     "name": "stdout",
     "output_type": "stream",
     "text": [
      "+--------------------+---------+--------------------+\n",
      "|         source_text|frontpage|              tokens|\n",
      "+--------------------+---------+--------------------+\n",
      "|Chess therapy   W...|        1|[chess, therapy, ...|\n",
      "|Will the debate a...|        0|[will, the, debat...|\n",
      "|How to remember t...|        0|[how, to, remembe...|\n",
      "|GitHub   Miscella...|        0|[github, , , misc...|\n",
      "|PFAS  EPA s new r...|        1|[pfas, , epa, s, ...|\n",
      "| 2404 05961  LLM2...|        0|[, 2404, 05961, ,...|\n",
      "|Quando Aggiorname...|        0|[quando, aggiorna...|\n",
      "|Brazil s Twitter ...|        1|[brazil, s, twitt...|\n",
      "|No Substitute for...|        0|[no, substitute, ...|\n",
      "|Moore s Law for E...|        0|[moore, s, law, f...|\n",
      "|Why workplaces sh...|        0|[why, workplaces,...|\n",
      "|SEOperate  Notion...|        0|[seoperate, , not...|\n",
      "|From bug detectio...|        0|[from, bug, detec...|\n",
      "|Why Can t My Mom ...|        1|[why, can, t, my,...|\n",
      "|Gentoo Linux beco...|        0|[gentoo, linux, b...|\n",
      "|AI Song Cover Gen...|        0|[ai, song, cover,...|\n",
      "|ClassroomIO  Load...|        0|[classroomio, , l...|\n",
      "|Clojure s slow st...|        0|[clojure, s, slow...|\n",
      "|Frontiers   Seism...|        0|[frontiers, , , s...|\n",
      "|Run time Polymorp...|        0|[run, time, polym...|\n",
      "+--------------------+---------+--------------------+\n",
      "only showing top 20 rows\n",
      "\n"
     ]
    }
   ],
   "source": [
    "# For text, make every word in lowercase\n",
    "from pyspark.ml.feature import Tokenizer\n",
    "\n",
    "df_token = Tokenizer(inputCol=\"source_text\", outputCol=\"tokens\").transform(df_punc_drop)\n",
    "df_token.show()"
   ]
  },
  {
   "cell_type": "code",
   "execution_count": 23,
   "id": "57d95d27-b619-4659-a95e-245cf9ac0d74",
   "metadata": {},
   "outputs": [
    {
     "data": {
      "text/plain": [
       "['i',\n",
       " 'me',\n",
       " 'my',\n",
       " 'myself',\n",
       " 'we',\n",
       " 'our',\n",
       " 'ours',\n",
       " 'ourselves',\n",
       " 'you',\n",
       " 'your',\n",
       " 'yours',\n",
       " 'yourself',\n",
       " 'yourselves',\n",
       " 'he',\n",
       " 'him',\n",
       " 'his',\n",
       " 'himself',\n",
       " 'she',\n",
       " 'her',\n",
       " 'hers',\n",
       " 'herself',\n",
       " 'it',\n",
       " 'its',\n",
       " 'itself',\n",
       " 'they',\n",
       " 'them',\n",
       " 'their',\n",
       " 'theirs',\n",
       " 'themselves',\n",
       " 'what',\n",
       " 'which',\n",
       " 'who',\n",
       " 'whom',\n",
       " 'this',\n",
       " 'that',\n",
       " 'these',\n",
       " 'those',\n",
       " 'am',\n",
       " 'is',\n",
       " 'are',\n",
       " 'was',\n",
       " 'were',\n",
       " 'be',\n",
       " 'been',\n",
       " 'being',\n",
       " 'have',\n",
       " 'has',\n",
       " 'had',\n",
       " 'having',\n",
       " 'do',\n",
       " 'does',\n",
       " 'did',\n",
       " 'doing',\n",
       " 'a',\n",
       " 'an',\n",
       " 'the',\n",
       " 'and',\n",
       " 'but',\n",
       " 'if',\n",
       " 'or',\n",
       " 'because',\n",
       " 'as',\n",
       " 'until',\n",
       " 'while',\n",
       " 'of',\n",
       " 'at',\n",
       " 'by',\n",
       " 'for',\n",
       " 'with',\n",
       " 'about',\n",
       " 'against',\n",
       " 'between',\n",
       " 'into',\n",
       " 'through',\n",
       " 'during',\n",
       " 'before',\n",
       " 'after',\n",
       " 'above',\n",
       " 'below',\n",
       " 'to',\n",
       " 'from',\n",
       " 'up',\n",
       " 'down',\n",
       " 'in',\n",
       " 'out',\n",
       " 'on',\n",
       " 'off',\n",
       " 'over',\n",
       " 'under',\n",
       " 'again',\n",
       " 'further',\n",
       " 'then',\n",
       " 'once',\n",
       " 'here',\n",
       " 'there',\n",
       " 'when',\n",
       " 'where',\n",
       " 'why',\n",
       " 'how',\n",
       " 'all',\n",
       " 'any',\n",
       " 'both',\n",
       " 'each',\n",
       " 'few',\n",
       " 'more',\n",
       " 'most',\n",
       " 'other',\n",
       " 'some',\n",
       " 'such',\n",
       " 'no',\n",
       " 'nor',\n",
       " 'not',\n",
       " 'only',\n",
       " 'own',\n",
       " 'same',\n",
       " 'so',\n",
       " 'than',\n",
       " 'too',\n",
       " 'very',\n",
       " 's',\n",
       " 't',\n",
       " 'can',\n",
       " 'will',\n",
       " 'just',\n",
       " 'don',\n",
       " 'should',\n",
       " 'now',\n",
       " \"i'll\",\n",
       " \"you'll\",\n",
       " \"he'll\",\n",
       " \"she'll\",\n",
       " \"we'll\",\n",
       " \"they'll\",\n",
       " \"i'd\",\n",
       " \"you'd\",\n",
       " \"he'd\",\n",
       " \"she'd\",\n",
       " \"we'd\",\n",
       " \"they'd\",\n",
       " \"i'm\",\n",
       " \"you're\",\n",
       " \"he's\",\n",
       " \"she's\",\n",
       " \"it's\",\n",
       " \"we're\",\n",
       " \"they're\",\n",
       " \"i've\",\n",
       " \"we've\",\n",
       " \"you've\",\n",
       " \"they've\",\n",
       " \"isn't\",\n",
       " \"aren't\",\n",
       " \"wasn't\",\n",
       " \"weren't\",\n",
       " \"haven't\",\n",
       " \"hasn't\",\n",
       " \"hadn't\",\n",
       " \"don't\",\n",
       " \"doesn't\",\n",
       " \"didn't\",\n",
       " \"won't\",\n",
       " \"wouldn't\",\n",
       " \"shan't\",\n",
       " \"shouldn't\",\n",
       " \"mustn't\",\n",
       " \"can't\",\n",
       " \"couldn't\",\n",
       " 'cannot',\n",
       " 'could',\n",
       " \"here's\",\n",
       " \"how's\",\n",
       " \"let's\",\n",
       " 'ought',\n",
       " \"that's\",\n",
       " \"there's\",\n",
       " \"what's\",\n",
       " \"when's\",\n",
       " \"where's\",\n",
       " \"who's\",\n",
       " \"why's\",\n",
       " 'would']"
      ]
     },
     "execution_count": 23,
     "metadata": {},
     "output_type": "execute_result"
    }
   ],
   "source": [
    "# For text, remove stop words (a/an/the/then/and...)\n",
    "from pyspark.ml.feature import StopWordsRemover\n",
    "\n",
    "stopwords = StopWordsRemover()\n",
    "stopwords.getStopWords()"
   ]
  },
  {
   "cell_type": "markdown",
   "id": "d69db766-e4a8-4d1d-b089-34e7f06eb1be",
   "metadata": {},
   "source": [
    "### Featurization: method selection"
   ]
  },
  {
   "cell_type": "code",
   "execution_count": 24,
   "id": "f9605a2a-50f8-4e77-9366-d1062af8973a",
   "metadata": {},
   "outputs": [
    {
     "name": "stdout",
     "output_type": "stream",
     "text": [
      "+--------------------+---------+--------------------+--------------------+\n",
      "|         source_text|frontpage|              tokens|               words|\n",
      "+--------------------+---------+--------------------+--------------------+\n",
      "|Chess therapy   W...|        1|[chess, therapy, ...|[chess, therapy, ...|\n",
      "|Will the debate a...|        0|[will, the, debat...|[debate, , psi, ,...|\n",
      "|How to remember t...|        0|[how, to, remembe...|[remember, differ...|\n",
      "|GitHub   Miscella...|        0|[github, , , misc...|[github, , , misc...|\n",
      "|PFAS  EPA s new r...|        1|[pfas, , epa, s, ...|[pfas, , epa, new...|\n",
      "| 2404 05961  LLM2...|        0|[, 2404, 05961, ,...|[, 2404, 05961, ,...|\n",
      "|Quando Aggiorname...|        0|[quando, aggiorna...|[quando, aggiorna...|\n",
      "|Brazil s Twitter ...|        1|[brazil, s, twitt...|[brazil, twitter,...|\n",
      "|No Substitute for...|        0|[no, substitute, ...|[substitute, vict...|\n",
      "|Moore s Law for E...|        0|[moore, s, law, f...|[moore, law, ever...|\n",
      "|Why workplaces sh...|        0|[why, workplaces,...|[workplaces, disc...|\n",
      "|SEOperate  Notion...|        0|[seoperate, , not...|[seoperate, , not...|\n",
      "|From bug detectio...|        0|[from, bug, detec...|[bug, detection, ...|\n",
      "|Why Can t My Mom ...|        1|[why, can, t, my,...|[mom, email, , , ...|\n",
      "|Gentoo Linux beco...|        0|[gentoo, linux, b...|[gentoo, linux, b...|\n",
      "|AI Song Cover Gen...|        0|[ai, song, cover,...|[ai, song, cover,...|\n",
      "|ClassroomIO  Load...|        0|[classroomio, , l...|[classroomio, , l...|\n",
      "|Clojure s slow st...|        0|[clojure, s, slow...|[clojure, slow, s...|\n",
      "|Frontiers   Seism...|        0|[frontiers, , , s...|[frontiers, , , s...|\n",
      "|Run time Polymorp...|        0|[run, time, polym...|[run, time, polym...|\n",
      "+--------------------+---------+--------------------+--------------------+\n",
      "only showing top 20 rows\n",
      "\n"
     ]
    }
   ],
   "source": [
    "stopwords = stopwords.setInputCol('tokens').setOutputCol('words')\n",
    "df_clean = stopwords.transform(df_token)\n",
    "df_clean.show()"
   ]
  },
  {
   "cell_type": "markdown",
   "id": "a2d57f2f-4672-40d2-91ab-ac65eae8c9f5",
   "metadata": {},
   "source": [
    "#### Topic encoding"
   ]
  },
  {
   "cell_type": "code",
   "execution_count": 55,
   "id": "295ae019-e4ab-4bf2-81a9-98125fd73314",
   "metadata": {},
   "outputs": [],
   "source": [
    "#from pyspark.ml.clustering import LDA\n",
    "#from pyspark.ml.feature import Tokenizer, StopWordsRemover, CountVectorizer, VectorAssembler\n",
    "\n",
    "#vectorizer = CountVectorizer(inputCol=\"words\", outputCol=\"features\")\n",
    "#vectorizer_model = vectorizer.fit(df_clean)\n",
    "#bow_df = vectorizer_model.transform(df_clean)"
   ]
  },
  {
   "cell_type": "code",
   "execution_count": 65,
   "id": "a62ba92d-0954-46a8-8663-d7c507683877",
   "metadata": {},
   "outputs": [
    {
     "name": "stdout",
     "output_type": "stream",
     "text": [
      "The topics described by their top-weighted terms:\n",
      "+-----+------------------------------+------------------------------------------------------------------------------------------------------------------+\n",
      "|topic|termIndices                   |termWeights                                                                                                       |\n",
      "+-----+------------------------------+------------------------------------------------------------------------------------------------------------------+\n",
      "|0    |[1748, 2342, 4219, 3877, 4504]|[6.311496829071136E-4, 5.418863928598731E-4, 3.556469258243872E-4, 3.305170428496798E-4, 3.2986957020548563E-4]   |\n",
      "|1    |[0, 1, 2, 3, 4]               |[0.3763087549906073, 0.013699798194472474, 0.008989757792763758, 0.006896331218007347, 0.006705739623271153]      |\n",
      "|2    |[2310, 2579, 2825, 3140, 3316]|[7.631756268808031E-4, 6.592717391125694E-4, 5.658672718096903E-4, 5.377084648873458E-4, 5.307010643169863E-4]    |\n",
      "|3    |[231, 323, 516, 707, 839]     |[0.002450876785579403, 0.001845545546617493, 0.0010777450425851873, 9.926955658822493E-4, 9.713717778396481E-4]   |\n",
      "|4    |[0, 1, 231, 323, 2]           |[0.046239039993115794, 0.0029091343895568337, 0.0026567016779277222, 0.0025120604388280507, 0.0018161470987199608]|\n",
      "+-----+------------------------------+------------------------------------------------------------------------------------------------------------------+\n",
      "\n"
     ]
    }
   ],
   "source": [
    "# Train the LDA model\n",
    "\n",
    "#num_topics = 5\n",
    "#lda = LDA(k=num_topics, maxIter=10, featuresCol=\"features\")\n",
    "#lda_model = lda.fit(bow_df)\n",
    " \n",
    "# Describe the topics\n",
    "#topics = lda_model.describeTopics(5)\n",
    "#print(\"The topics described by their top-weighted terms:\")\n",
    "#topics.show(truncate=False)"
   ]
  },
  {
   "cell_type": "code",
   "execution_count": 66,
   "id": "9e89155c-a75f-4a94-80cd-8769daf9f264",
   "metadata": {},
   "outputs": [],
   "source": [
    "#transformed_df = lda_model.transform(bow_df)\n",
    "#transformed_df.select('topicDistribution').show(truncate=False)"
   ]
  },
  {
   "cell_type": "code",
   "execution_count": 13,
   "id": "d67192d0-4aa5-4635-8a9f-a9f7fea1b9cf",
   "metadata": {},
   "outputs": [
    {
     "name": "stdout",
     "output_type": "stream",
     "text": [
      "+---------+---------------------------------------------------------------------------------------------------------------------------------------------------------------------------------------------------------------------------------------------------------------------------------------------------------------------------------------------------------------------------------------------------------------------------------------------------------------------------------------------------------------------------------------------------------------------------------------------------------------------------------------------------------------------------------------------------------------------------------------------------------------------------------------------------------------------------------------------------------------------------------------------------------------------------------------------------------------------------------------------------------------------------------------------------------------------------------+\n",
      "|frontpage|features                                                                                                                                                                                                                                                                                                                                                                                                                                                                                                                                                                                                                                                                                                                                                                                                                                                                                                                                                                                                                                                                         |\n",
      "+---------+---------------------------------------------------------------------------------------------------------------------------------------------------------------------------------------------------------------------------------------------------------------------------------------------------------------------------------------------------------------------------------------------------------------------------------------------------------------------------------------------------------------------------------------------------------------------------------------------------------------------------------------------------------------------------------------------------------------------------------------------------------------------------------------------------------------------------------------------------------------------------------------------------------------------------------------------------------------------------------------------------------------------------------------------------------------------------------+\n",
      "|1        |[-0.052716225049697044,0.04216088253056076,0.20540663224766664,0.0311924453159279,0.1520942013819215,0.13278589735967494,0.020586766457312448,-0.04293858701426224,-0.13141849204361022,0.07139662641170579,0.028747726724311577,-0.015211282913587037,-0.057887095517119534,-0.013504183473554247,-0.11119230371614397,-0.03713402340716821,0.016926271650047342,-0.11185500785668259,0.016223280249897838,-0.029239067923126565,0.14717507360451124,0.05475495440793062,0.037912633924650975,-0.03474311015399342,0.015097820434299844,0.03503049652773814,-0.11830425163142168,-0.029449098861116282,-0.035480888978330884,0.03697747586929761,0.04680627432851696,-0.026339697473268035,0.036417047636754706,-0.052623158216491835,-0.08329724860257345,-0.007388552228298638,-0.1465909364409812,-0.016992740613421133,0.18908433828431698,0.03133335374453257,-0.07597621741335674,-0.08461964204825638,-0.0445026290104128,0.04324261509812587,-0.035431553048560584,0.09878507706092902,0.04489141153301543,0.050217966456447286,0.03841453952751361,0.09610898253346277]|\n",
      "|0        |[-0.0774017027476148,0.037612924541282435,0.2229671249800328,0.05057331855264089,0.16319397350819248,0.11957371329456994,0.009435400812399285,-0.02126008346799519,-0.12649011334971777,0.0903922828107051,0.048439966068638096,0.006877087022367287,-0.033588932638101844,-0.015929636744726403,-0.09203934644782052,-0.04565607421039744,-0.020733597839402956,-0.13623494758066954,0.00240373198258549,-0.0037586424671282024,0.16172214254522044,0.07368173936664509,0.02290176806534017,-0.039486449962393685,0.01984624631019388,0.06550889668811768,-0.13128445093631058,-0.040433406066533714,-0.07607514652049965,0.07289831069183195,0.05064506721455532,-0.012658323554624195,0.03000038024641077,-0.0598581495364081,-0.07372475791600033,0.002392571852867738,-0.14602428589229627,-0.027914009243808664,0.18397155975507498,0.059548551778292304,-0.06963059490424271,-0.08980867927970083,-0.035648383707892535,0.07014339339400655,-0.02395194634350832,0.09583541239415388,0.04911403098219446,0.06260714470457363,0.017434938100974084,0.08985724137600258]    |\n",
      "|0        |[-0.1607306128289889,0.07798049928754486,0.25059114607278193,0.03104338338101301,0.2136171067520514,0.15936484337316428,0.02826472465165523,-0.004508999121883239,-0.08457468681110515,0.13142666226768307,0.07325888460512013,0.05107919497959448,-0.11226493509054564,-0.03377808166896129,-0.11573027275539603,-0.05097970074422441,-0.036964582993263155,-0.1542261773967154,-0.012235098147145428,-0.0032614141305747314,0.17974382110032733,0.1179294723595282,0.0324754758152514,-0.13229966608010246,0.03134384313556833,0.07643120667654539,-0.12623298994976045,0.0013592086497296407,-0.08291934865216415,0.06682428880029548,0.11166885358218893,0.01914293332036523,-0.005258362930159546,-0.13353507534840406,-0.10793806386487179,-0.015257423218111937,-0.19090240768506947,-0.12607171334564374,0.19071152860458496,0.04509941730979818,-0.11320889008918415,-0.11190664096711683,-0.11927432648993541,0.03923505961421793,0.03337240943697983,0.08480948362331635,0.11421971413436682,0.09112812041177948,0.07460887684346657,0.15561127233881095]             |\n",
      "|0        |[-0.10918968356898141,0.009422045724406133,0.15045652724364184,0.029449163375829812,0.16007853301904018,0.180245223159622,0.05564705107625117,-0.06806365172613654,-0.037629703914290186,0.03747140936598975,0.034870005633469606,-0.029403675745684213,-0.15362745512933304,-0.04184299586973706,-0.08840344575933652,-0.08281796514357524,0.15524834907488866,-0.0596965505520387,0.07642248462061946,-0.07559186026711874,0.251335117010244,0.10355303924326843,0.10716275304476296,-0.0291439484547931,0.0258764308424602,0.0053315732882502605,-0.17395382736762566,-0.09459870177360277,-0.048559039298701666,-0.02795463517483209,0.06725819628143172,-0.03693801974397327,0.1108648475542546,-0.005999674883910248,-0.14067555157413725,-0.0712049911261525,-0.14192778485992305,-0.04585536915148996,0.1629037668411122,-0.06598829971642181,-0.06710884356972936,-0.1319209021258067,-0.18291071433609377,0.014769145372780939,-0.09375531150161182,0.1662613882410413,0.05725491722239303,0.07407752725028179,0.07828831993222604,0.09622716628418639]                |\n",
      "|1        |[-0.016472622489783827,0.06115835215273527,0.19304469982095535,0.036780032674772686,0.13134508943068351,0.1539522563885905,0.0012106254188620792,-0.02773735060548471,-0.1305129867356912,0.05331428154178695,0.02455817586164256,-0.07221029018044461,-0.10728628244943396,-0.08397799129015086,-0.04752727355698381,-0.026256417092466483,0.03821554415618298,-0.15041867662076563,-0.019697772610122503,-0.025387504377626158,0.16549653473026538,0.03596250933792087,0.05919260393840654,0.05356165356716959,0.0336226523495739,-0.01967244205314038,-0.10254516002824096,-0.02354570270564997,-0.045053910108123055,5.993789591004288E-4,0.02331110975624077,-0.006689700370976822,0.13546177303166596,-0.06225455921339945,-0.1469736742837071,0.027746569235713996,-0.1166795298906756,-0.09806263078217657,0.19306655899476374,0.05453499188172535,-0.091659290412603,-0.026942444492314584,-0.17688393296524865,-0.07486988393887635,0.012398809255710888,0.0661946340182309,0.05987563391853309,0.1376999726734936,0.08198790782961474,0.048932062089965284]           |\n",
      "|0        |[0.0029679953768867347,-0.004171116200550397,0.18348560606247988,0.08721615635791054,0.13857468136499743,0.23047790973095067,0.026962627669255976,-0.04574580512183552,-0.18879942579542602,0.009159390664624614,-0.02667236988746844,-0.019204165317192313,-0.051222488811982186,-0.07237854742796684,-0.07908029586078982,-0.02580560563049033,0.10927673207499891,-0.03363190259979937,0.03669339972163412,-0.06488996686538023,0.15026040584780276,0.09242639765851154,0.06638652123885781,-0.036465156487456324,-0.056921869498678675,0.03938411499513481,-0.15453316361123226,-0.06327959328476425,-0.04224769892583885,0.0524053750993612,0.08553115639018863,-0.04665489427802075,0.1322913845731125,0.05095535685491958,-0.13566769846492874,-0.008482851698911503,-0.08603880271811007,0.003971853530662419,0.16088057816301307,0.03264281139530711,-0.02138813803924647,-0.11909319588940352,-0.06177165135949068,0.07184229738335153,-0.07567892036700129,0.19902667516139777,0.0655974318471089,0.06913277672253217,-0.03891960923030267,0.06912411879294521]       |\n",
      "|0        |[-0.09112183713951992,0.01506724816401456,-0.18566179280466819,0.08781497722652558,0.15752727031870567,0.23460787570201108,0.19680993059033652,-0.02584369359240024,-0.35748018064797843,-0.04133707783997264,-0.14590565631612748,0.1902127057172294,0.14851626862312578,0.011783875296472695,-0.056520922893180905,0.12440757467959794,0.15010047781849373,0.20417843722384835,0.0574672243909005,0.008710240733034714,0.3257818671851593,-0.12465927667409904,0.1062941557328725,-0.1691723472166452,-0.11161678616488688,-0.013708339576643216,0.13037962762553748,0.13924604808293997,0.4660302707295298,0.06279409951331774,0.3822808268701926,0.18534786086344238,-0.07944372883844052,0.3625249707842892,0.42502745952081755,0.35397620444141725,-0.4530405575987449,-0.09358807497712075,0.12059572628219915,0.06481462515667741,0.08278555604722589,-0.041390121505307825,-0.15467970291453673,0.26670174538600483,0.0823904756421324,0.023800057859197015,0.42648583812353236,0.009957113481031064,-0.20572891733192794,0.2180133335788643]                           |\n",
      "|1        |[-0.036079322708694406,0.09668118697162315,0.15214166173784785,0.013599201329997278,0.17383725900860733,0.15679455860443325,-0.024454070233163143,-0.11234349410434007,-0.13723727051525458,0.048518978035926204,0.059178959087963806,-0.03619100066828206,-0.0719941829435794,-0.07388031349850582,-0.06829958779997293,-0.09092822044603968,0.027691144514508333,-0.13203912597994205,0.011938625242730918,0.008935686974186851,0.2001442670891577,0.016354041656749106,0.025125611789375297,-0.024011221569965303,0.05052960274066683,0.07128355044763188,-0.10456386101956885,-0.07503660216720201,-0.061708611904326624,0.03794392648069768,0.029129786974388484,-0.02634438033783342,0.12569624557068482,-0.05397668677144442,-0.10804681588297417,0.055120975129432634,-0.17245847063730174,-0.020860121445570055,0.2028408376145606,0.050467892778208505,-0.10639591798776951,-0.01763786089280828,-0.012633038447539284,0.04026467465600153,-0.014875238444512887,0.10418633784256538,0.017944760133070073,0.08751183855241941,0.03170521560461347,0.018866636922179148]|\n",
      "|0        |[-0.10776129200997016,0.10794464088261164,0.17962502847369025,-0.013667620378356267,0.18704110685280206,0.1515313706271583,0.006870819994912015,-0.08798281606920409,-0.1408663042873708,0.07951946569110421,0.07180970498546267,-0.03456490227187036,-0.06842158068125063,-0.08823304265674575,-0.06439178375701798,-0.07858297996106033,-0.0038435563086011175,-0.13904260297730336,-0.007702072024094815,0.04571473547305677,0.1858380678604496,-0.02690024525648922,0.021678249227760845,-0.09142579327952988,0.05544993401308196,0.08859154556804363,-0.08103931043483327,-0.08571023793975074,-0.06893690848736106,0.0707338607783256,0.030464594836306275,-0.027814782126998325,0.11983224867331249,-0.06809332014458537,-0.046313535686755926,0.013517481432061005,-0.17387506401128838,-0.022518254159833984,0.19664341094733626,0.0445896683109241,-0.12121912896242547,-0.006186812748687756,-4.884036203180848E-4,0.06320377553906978,-7.228034624246412E-4,0.08254121564796713,0.037835555905482335,0.11760888142743704,0.07586803943571485,0.06479590702969278]    |\n",
      "|0        |[-0.1058992685916573,0.06931215681347697,0.2012351734608057,0.030394372721791678,0.18308981134380226,0.12143537035252112,0.019911626490557822,-0.03776524960857517,-0.12465964327686206,0.07398934104576863,0.055075083622428966,-0.036895203682603704,-0.047430447370411244,0.028299004032589784,-0.05629329552724292,-0.0986742788486299,-0.00649402096361709,-0.14743235007898572,0.0261540702499319,0.023580112938922995,0.1479867259136448,0.008825376260273125,0.027827412512408393,-0.049341963881327375,0.05276524483589345,0.08545316682935143,-0.1248498834210581,-0.03604720706050319,-0.12641281901063242,0.07469018574417402,0.050869771001854955,-0.006355995008842521,0.0746286352299995,-0.09048834421646981,-0.03968586802799282,0.029719287024899607,-0.17137861981845207,0.008312666235821477,0.21210971227885844,0.05334574446362066,-0.07269219801077616,-0.044305932907307236,-0.05628831411994595,0.06526164343414123,-0.018899504003250817,0.10533198647877726,-4.300222558543153E-4,0.10209317719256172,0.031879128350388954,0.09394082121113094]       |\n",
      "|0        |[-0.07639965491343818,0.08162051545233821,0.21412264161547756,0.04376727794286882,0.14732811999422146,0.10843786888673317,0.023219328146698515,-0.005824257359041807,-0.10513314449978951,0.04821697693857455,0.0597485807904573,-0.0189371554021607,-0.05144413889872046,0.01630185578334506,-0.059545227555943506,-0.08752220484150716,-0.017018234464607877,-0.13050203818542416,8.222572236848827E-4,0.0430495447568134,0.11375094338858042,0.02373530877163978,0.04551889082227298,-0.025190603745278404,0.06536096682562285,0.08963771155011795,-0.10687239045283951,-0.012023441585090002,-0.13851035764620728,0.11231565533993923,0.062131297950671203,-0.0023759181387286157,0.04591419706247064,-0.08808653961103682,-0.04637436132839819,0.037539759207821106,-0.17199151220518835,-0.027222881241211958,0.23214860954597502,0.08554885038394625,-0.06391785642354107,-0.07392211139138699,-0.09057030028940305,0.08503277046576002,-0.022680325202691302,0.07412831550120083,0.020005833206223806,0.11812957283500275,0.006378387024212671,0.09394682609808128]      |\n",
      "|0        |[-0.048886686452449514,0.043864280257660614,0.21775264579516193,0.021130340183691053,0.14194639994888208,0.17925073745517203,0.05454941693930708,-0.07998945301873252,-0.14078037247616942,0.022863377949509486,0.027877337663309076,-0.08162590536544136,-0.11859726767198972,-0.053061286245401094,-0.03498436939060832,-0.06767315052342243,0.07344125012079111,-0.07361898543760897,0.03953354226676031,-0.04110139834542329,0.2080812724826571,0.07232598475126836,0.09268342053759486,0.0013095804454328923,-0.00604222860151472,0.03540395024420622,-0.15621884253073054,-0.032378990791487296,-0.07582821820038729,0.021794792235148356,0.0756918915708621,-0.040003709374174766,0.13717263846774586,0.006315039411912529,-0.09368023851823706,-0.012913605848846672,-0.16635698583156158,0.03265965761115345,0.18915553466918378,-0.020253867578979297,-0.0766701391508552,-0.11438566573465674,-0.14222415495717614,0.04480895157813883,-0.08175307265706719,0.12987844235859275,0.022651094277478898,0.07680384745337786,0.011487641538350055,0.06850673249976423]    |\n",
      "|0        |[-0.0640822329257185,0.038435615046224544,0.1661204483983522,0.06171902575484696,0.15099028152910107,0.13768257848107776,0.001333195508561399,1.9521439359067525E-4,-0.07305571349775819,0.03300053474996693,0.033505649839161676,-0.009805422405998498,-0.073931289600177,0.04296220752491366,-0.051702601048643916,-0.09209059658691865,0.03618127756250214,-0.09419357048840793,0.033260157510095735,2.434960175821765E-5,0.16693382254948774,0.1023550434623192,0.07664102828335417,-0.03472217360101874,0.06357774073506067,0.07363429330751338,-0.14896426570515092,-0.03192232795634607,-0.15982935735685463,0.06088192607291783,0.07680110212340406,-0.010256018147280086,0.06676542792903509,-0.049972900905100724,-0.10339256391822893,0.044900856150045854,-0.13820249919062952,-0.022186153078613408,0.21559375880977857,0.033385621747416494,-0.02875120124437127,-0.08354452132450613,-0.12519005179406217,0.06445250422480678,-0.05619678485785761,0.10098467899381214,-0.001146750725581678,0.11354212010753673,-0.02201668090490683,0.05642824787997901]        |\n",
      "|1        |[-0.06607361769263048,0.11090133590214746,0.16787347675757708,0.027637303403731602,0.1397730550839941,0.15329623153163485,0.031015088374594955,-0.06362933164914743,-0.05014417081637988,0.013131563924627228,0.04060775341376385,-0.018580347838147035,-0.120237085512619,0.05320186622817193,-0.047180781273661695,-0.1302824676325601,0.06332404816127035,-0.0910300405066142,0.03496330031634193,-0.0076018682462895715,0.14186792259499373,0.10101327190122056,0.07950242213815575,-0.018626175122176836,0.0547583613696537,0.05986867453603568,-0.1636347551647671,0.004038746176966109,-0.10544580656565776,0.04931006871208487,0.029258196855389062,0.015381894436323786,0.09407790142232307,-0.07025956983550267,-0.05983480965399454,0.10990403764202215,-0.19736309976178118,0.026228599938249643,0.23410051622578765,-0.006339590692968588,-0.01682689259184688,-0.09352870898786532,-0.1443250353648445,0.06656140284762471,-0.05135867426847669,0.09277043878723196,-0.06864073134672183,0.10733624904530913,7.713667128954712E-4,0.021965436053320117]            |\n",
      "|0        |[-0.08671183370566816,0.02487149309577785,0.19704665937083707,0.01357704706010492,0.15513323071166485,0.17925662612037965,0.04629624634165322,-0.04617642665139091,-0.1037212733340935,0.0538906721180187,0.012456663237616976,-0.03803252499226793,-0.11343488961667197,-0.03830581029347527,-0.05717205482678095,-0.07862748569612985,0.03110666103067426,-0.08247742095474286,0.03646032913233534,-0.04942666942315735,0.16527287304555535,0.0769208989018431,0.06868139850449582,-0.052621563204243195,0.03533460994523711,0.053811624008506274,-0.1476952244992431,-0.04170781637717382,-0.0323331325498241,0.04724577478648447,0.07809648247740382,-0.037185857125733156,0.0822319129116696,-0.03348093594834773,-0.11158383671555595,0.03242623660469031,-0.14693769818277394,0.008062944505303527,0.20471388974125637,-0.026910780546918256,-0.06712670885785584,-0.08145615952935349,-0.09858236001435551,0.05173270504101907,-0.043922400622300906,0.12891611181151294,6.478231000695719E-4,0.07899952830275091,0.04625642380176373,0.05242194921168485]               |\n",
      "|0        |[-0.08423302182454612,0.06679758302043903,0.11775465048524136,1.927078007651594E-4,0.13368001625886913,0.19338464799346838,0.04568477893989273,-0.046327755620457656,-0.060470404670170334,0.004670220200119201,-0.022987168270370836,-0.0697928270314097,-0.13405926167802068,0.04335926821354428,-0.0379505649534756,-0.10582185533339859,0.09355957086702761,-0.05969368935140593,0.0845407953510506,-0.03573611072749771,0.1399030994946192,0.08321217809496402,0.12260806555183044,-0.1060163877684201,0.04531050720163925,0.14859287659672038,-0.19021185559995948,-0.06949481253943457,-0.09861280098259266,-0.0039747802421950685,0.14273935895084272,-0.005272029320998439,0.056651355463150074,-0.026246078676553306,-0.14447041880368058,0.06405489832169166,-0.1355322092528377,0.02156575068218292,0.17371831743764632,0.00129295864086277,-0.06556838793175988,-0.06335482180583506,-0.06990914533959629,0.09355342216139402,-0.0722923555240503,0.1657827646492205,-0.0642251774896363,0.12652318100955365,0.04853801225738433,0.054287927710391544]              |\n",
      "|0        |[-0.047461687164145915,0.0389561010938685,0.15581238316432044,0.029224529414744953,0.14103530664909056,0.21014337430419472,0.03809794612029644,-0.07121422468668412,-0.13612305558737867,0.032364436095075194,0.05846589661116913,-0.037687282068366856,-0.11471389616736374,0.030767718779334808,-0.016317456394203546,-0.06361001162650544,0.07314858312793618,-0.07042338672218863,0.029572704767318655,-0.027907515941403768,0.17214978994761435,0.08006273361861156,0.08528634684445989,-0.046106036302253135,0.008303077769652969,0.05316736917002438,-0.17318540513479466,-0.038889586253568156,-0.09966851904575434,0.02103049476293741,0.06850851003775797,-0.03395730684830606,0.10482127634880731,0.0012051801595683257,-0.1019678676162472,0.01892150048353738,-0.15106129767157175,0.0029607998839094657,0.21911030659720915,-0.027835949030332745,-0.06890848838347946,-0.08120965638639617,-0.12895403643842748,0.057871452780916315,-0.07009901348009379,0.13640787274595925,0.004703999021358802,0.0890723480853884,0.02722159377809316,0.05657065514107259]    |\n",
      "|0        |[-0.1263381486579614,0.047145267597631886,0.1656978442317851,0.03566879519933943,0.1625741648097925,0.14975339795847942,0.09335975746565162,-0.04154407208672098,-0.05602156596911329,0.03336283173012229,0.01844666360558972,-0.03328190351302647,-0.04756687640687433,0.03754441581911547,-0.14599227264674522,-0.07674682229435359,0.01821780361131803,-0.1313983947556691,0.09003387460345225,-0.04915101833463586,0.16127424577505745,0.09738472255436097,0.09231545706494257,-0.037439700699499416,0.02605509892804806,0.05204023244526327,-0.18778530983520636,-0.09278934071682164,-0.04592295265886389,-0.02195999436639109,0.07633237026669677,-0.04502610934777858,-0.011616814952923823,-0.06865462657772134,-0.07786672605856419,0.013821133810910838,-0.09941457684309851,0.0022291516964387725,0.2407196010251651,-0.04888475173262463,-0.022207011355959757,-0.0747111646292552,-0.09499772764425589,0.015215683004121544,-0.05778145919315203,0.16071804204791512,-0.04427579178845779,0.08742417982284863,0.0026029745278385637,0.10193127062331343]           |\n",
      "|0        |[-0.035392754946399194,0.09476009716308609,0.19731786977042293,0.07789066493202515,0.24470735575410427,0.09454835611519043,0.049026865036597984,0.025168372711923993,-0.0641282738342403,0.11192944778184509,0.005841570639127942,4.682348698464337E-4,0.025653894057220926,-0.09916891605525659,-0.1910102346903749,-0.02244941981999101,-0.006401186940457779,-0.23120581475654695,-0.006230569465888964,0.00986222653944492,0.0767938127675451,0.017632831158146456,0.05489194689108632,-0.06418626015494104,-0.004930462845146349,0.04313000509937717,-0.1206057902177329,-0.12638825614061186,0.054113075262046416,0.018367069010595573,0.05021937474947248,-0.06649067226229793,-0.03138928233598626,-0.04143417728280733,-0.10156203398091512,-0.05082593638829822,-0.11506157014260217,-0.03545932778285981,0.15380266002816798,0.09305843358099591,0.024178248213859,-0.10686271601164124,0.02668512491391103,0.03758172550267422,-0.06463316098907795,0.20863929265409428,0.1132506108080259,0.040736250679846965,-0.029515632898531277,0.061908608079103505]          |\n",
      "|0        |[-0.05504245597320135,0.06830327885433722,0.1550008334990259,0.06616334893355312,0.14186620110856038,0.1473216007220674,0.0657749706715837,-0.023691311519980534,-0.06661481954298194,0.029018470717814646,0.0643491313397004,-0.010552231188080232,-0.09499913637974547,0.030224446722575394,-0.06580671360724948,-0.06623766870337922,0.028011081330025764,-0.08185075496798955,0.03463667085470646,-0.027860973673993525,0.1680442833494423,0.1315389611010413,0.11591138783532143,-0.02329891668197402,0.057753177138307535,0.0681843809462323,-0.19276632552696618,-0.04831791093897115,-0.14339369746234476,0.020421234942192553,0.05510302055991572,-0.028123142679867884,0.027175758051584016,-0.07427722749166148,-0.06505938950194423,0.02520836827145125,-0.1174678959480561,-0.03259483261100194,0.2283454431318015,0.009771722207213446,-0.028086969315791296,-0.06964848079134828,-0.14818384467368614,0.06201134117266722,-0.018146076021936228,0.09912488511510521,0.007148160013363625,0.09909609408714157,-0.014091012271725734,0.08664836343877998]           |\n",
      "+---------+---------------------------------------------------------------------------------------------------------------------------------------------------------------------------------------------------------------------------------------------------------------------------------------------------------------------------------------------------------------------------------------------------------------------------------------------------------------------------------------------------------------------------------------------------------------------------------------------------------------------------------------------------------------------------------------------------------------------------------------------------------------------------------------------------------------------------------------------------------------------------------------------------------------------------------------------------------------------------------------------------------------------------------------------------------------------------------+\n",
      "only showing top 20 rows\n",
      "\n"
     ]
    }
   ],
   "source": [
    "# Featurization of Spark dataframe\n",
    "#from pyspark.ml.feature import Word2Vec\n",
    "\n",
    "# Learn a mapping from words to Vectors.\n",
    "#word2Vec = Word2Vec(vectorSize=50, minCount=0, inputCol=\"words\", outputCol=\"features\")\n",
    "#word_embed = word2Vec.fit(df_clean)\n",
    "#result = word_embed.transform(df_clean)\n",
    "#result = result.drop('source_text','tokens','words')\n",
    "#result.show(truncate=False)"
   ]
  },
  {
   "cell_type": "markdown",
   "id": "611a1611-357d-42c3-bd02-4889664e50bf",
   "metadata": {},
   "source": [
    "#### TF-IDF"
   ]
  },
  {
   "cell_type": "code",
   "execution_count": 74,
   "id": "21139b9c-380d-4c21-a0ea-443ac4d35017",
   "metadata": {},
   "outputs": [],
   "source": [
    "# Using bag of words(TF-IDF)\n",
    "from pyspark.ml.feature import HashingTF, IDF, Tokenizer\n",
    "\n",
    "hashingTF = HashingTF(inputCol=\"words\", outputCol=\"rawFeatures\")\n",
    "featurizedData = hashingTF.transform(df_clean)\n",
    "\n",
    "idf = IDF(inputCol=\"rawFeatures\", outputCol=\"features\")\n",
    "idfModel = idf.fit(featurizedData)\n",
    "rescaledData = idfModel.transform(featurizedData)"
   ]
  },
  {
   "cell_type": "code",
   "execution_count": 75,
   "id": "073ae116-eca2-4c50-979d-28a628b0d333",
   "metadata": {},
   "outputs": [
    {
     "name": "stdout",
     "output_type": "stream",
     "text": [
      "+--------------------+---------+--------------------+--------------------+--------------------+--------------------+\n",
      "|         source_text|frontpage|              tokens|               words|         rawFeatures|            features|\n",
      "+--------------------+---------+--------------------+--------------------+--------------------+--------------------+\n",
      "|Chess therapy   W...|        1|[chess, therapy, ...|[chess, therapy, ...|(262144,[666,1097...|(262144,[666,1097...|\n",
      "|Will the debate a...|        0|[will, the, debat...|[debate, , psi, ,...|(262144,[161,440,...|(262144,[161,440,...|\n",
      "|How to remember t...|        0|[how, to, remembe...|[remember, differ...|(262144,[1578,212...|(262144,[1578,212...|\n",
      "|GitHub   Miscella...|        0|[github, , , misc...|[github, , , misc...|(262144,[654,2139...|(262144,[654,2139...|\n",
      "|PFAS  EPA s new r...|        1|[pfas, , epa, s, ...|[pfas, , epa, new...|(262144,[329,633,...|(262144,[329,633,...|\n",
      "| 2404 05961  LLM2...|        0|[, 2404, 05961, ,...|[, 2404, 05961, ,...|(262144,[1296,333...|(262144,[1296,333...|\n",
      "|Quando Aggiorname...|        0|[quando, aggiorna...|[quando, aggiorna...|(262144,[101,873,...|(262144,[101,873,...|\n",
      "|Brazil s Twitter ...|        1|[brazil, s, twitt...|[brazil, twitter,...|(262144,[71,1097,...|(262144,[71,1097,...|\n",
      "|No Substitute for...|        0|[no, substitute, ...|[substitute, vict...|(262144,[6,303,33...|(262144,[6,303,33...|\n",
      "|Moore s Law for E...|        0|[moore, s, law, f...|[moore, law, ever...|(262144,[303,1578...|(262144,[303,1578...|\n",
      "|Why workplaces sh...|        0|[why, workplaces,...|[workplaces, disc...|(262144,[619,666,...|(262144,[619,666,...|\n",
      "|SEOperate  Notion...|        0|[seoperate, , not...|[seoperate, , not...|(262144,[161,2701...|(262144,[161,2701...|\n",
      "|From bug detectio...|        0|[from, bug, detec...|[bug, detection, ...|(262144,[921,991,...|(262144,[921,991,...|\n",
      "|Why Can t My Mom ...|        1|[why, can, t, my,...|[mom, email, , , ...|(262144,[991,1546...|(262144,[991,1546...|\n",
      "|Gentoo Linux beco...|        0|[gentoo, linux, b...|[gentoo, linux, b...|(262144,[1152,213...|(262144,[1152,213...|\n",
      "|AI Song Cover Gen...|        0|[ai, song, cover,...|[ai, song, cover,...|(262144,[2701,332...|(262144,[2701,332...|\n",
      "|ClassroomIO  Load...|        0|[classroomio, , l...|[classroomio, , l...|(262144,[1007,300...|(262144,[1007,300...|\n",
      "|Clojure s slow st...|        0|[clojure, s, slow...|[clojure, slow, s...|(262144,[161,329,...|(262144,[161,329,...|\n",
      "|Frontiers   Seism...|        0|[frontiers, , , s...|[frontiers, , , s...|(262144,[154,161,...|(262144,[154,161,...|\n",
      "|Run time Polymorp...|        0|[run, time, polym...|[run, time, polym...|(262144,[1277,230...|(262144,[1277,230...|\n",
      "+--------------------+---------+--------------------+--------------------+--------------------+--------------------+\n",
      "only showing top 20 rows\n",
      "\n"
     ]
    }
   ],
   "source": [
    "rescaledData.show()"
   ]
  },
  {
   "cell_type": "code",
   "execution_count": 77,
   "id": "a929aa44-f3a3-4e81-b8c4-c8b6d5a18918",
   "metadata": {},
   "outputs": [
    {
     "name": "stdout",
     "output_type": "stream",
     "text": [
      "+---------+--------------------+\n",
      "|frontpage|            features|\n",
      "+---------+--------------------+\n",
      "|        1|(262144,[666,1097...|\n",
      "|        0|(262144,[161,440,...|\n",
      "|        0|(262144,[1578,212...|\n",
      "|        0|(262144,[654,2139...|\n",
      "|        1|(262144,[329,633,...|\n",
      "|        0|(262144,[1296,333...|\n",
      "|        0|(262144,[101,873,...|\n",
      "|        1|(262144,[71,1097,...|\n",
      "|        0|(262144,[6,303,33...|\n",
      "|        0|(262144,[303,1578...|\n",
      "|        0|(262144,[619,666,...|\n",
      "|        0|(262144,[161,2701...|\n",
      "|        0|(262144,[921,991,...|\n",
      "|        1|(262144,[991,1546...|\n",
      "|        0|(262144,[1152,213...|\n",
      "|        0|(262144,[2701,332...|\n",
      "|        0|(262144,[1007,300...|\n",
      "|        0|(262144,[161,329,...|\n",
      "|        0|(262144,[154,161,...|\n",
      "|        0|(262144,[1277,230...|\n",
      "+---------+--------------------+\n",
      "only showing top 20 rows\n",
      "\n"
     ]
    }
   ],
   "source": [
    "training = result.drop('source_text','tokens','words')\n",
    "training.show()"
   ]
  },
  {
   "cell_type": "code",
   "execution_count": 91,
   "id": "9b2c4c97-d974-424e-ab28-dcc0bfcc0406",
   "metadata": {},
   "outputs": [
    {
     "name": "stdout",
     "output_type": "stream",
     "text": [
      "Count of positive cases: 665\n",
      "Count of negative cases: 126\n",
      "Count of ratio: 5.277777777777778\n"
     ]
    }
   ],
   "source": [
    "print('Count of positive cases:', training.select('frontpage').where(training.frontpage==0).count())\n",
    "print('Count of negative cases:', training.select('frontpage').where(training.frontpage==1).count())\n",
    "print('Count of ratio:', training.select('frontpage').where(training.frontpage==0).count()/training.select('frontpage').where(training.frontpage==1).count())"
   ]
  },
  {
   "cell_type": "markdown",
   "id": "1b2274c4-76c4-4f5e-9617-0ad388c0818a",
   "metadata": {},
   "source": [
    "### Train/test data split"
   ]
  },
  {
   "cell_type": "code",
   "execution_count": 100,
   "id": "cb55cf55-2b38-4fed-a337-2ed09b771278",
   "metadata": {},
   "outputs": [],
   "source": [
    "# Split the data into train and test\n",
    "splits = training_final.randomSplit([0.6, 0.4], 1234)\n",
    "train = splits[0]\n",
    "test = splits[1]"
   ]
  },
  {
   "cell_type": "markdown",
   "id": "3c9eef1c-729c-4175-bb0d-57545691b24c",
   "metadata": {},
   "source": [
    "### Oversampling on train set"
   ]
  },
  {
   "cell_type": "markdown",
   "id": "5b2794d8-601e-4fdb-9340-4c3177947da1",
   "metadata": {},
   "source": [
    "Positive cases are so few that models could be unable to fully learn the patterns. To solve class imbalance, oversampling is used."
   ]
  },
  {
   "cell_type": "code",
   "execution_count": 96,
   "id": "81e32f05-3d0b-45ee-90c2-062e82961648",
   "metadata": {},
   "outputs": [],
   "source": [
    "def oversample_minority(df, ratio=1):\n",
    "    '''\n",
    "    ratio is the ratio of majority to minority\n",
    "    Eg. ratio 1 is equivalent to majority:minority = 1:1\n",
    "    ratio 5 is equivalent to majority:minority = 5:1\n",
    "    '''\n",
    "    minority_count = df.filter(\"frontpage=1\").count()\n",
    "    majority_count = df.filter(\"frontpage=0\").count()\n",
    "    \n",
    "    balance_ratio = majority_count / minority_count\n",
    "    \n",
    "    print(f\"Initial Majority:Minority ratio is {balance_ratio:.2f}:1\")\n",
    "    if ratio >= balance_ratio:\n",
    "        print(\"No oversampling of minority was done as the input ratio was more than or equal to the initial ratio.\")\n",
    "    else:\n",
    "        print(f\"Oversampling of minority done such that Majority:Minority ratio is {ratio}:1\")\n",
    "    \n",
    "    oversampled_minority = df.filter(\"frontpage=1\")\\\n",
    "                                .sample(withReplacement=True, fraction=(balance_ratio/ratio),seed=88)\n",
    "    oversampled_df = df.filter(\"frontpage=0\").union(oversampled_minority)\n",
    "    \n",
    "    return oversampled_df"
   ]
  },
  {
   "cell_type": "code",
   "execution_count": 97,
   "id": "8009967f-7ff1-4b18-9d20-d428f67a679e",
   "metadata": {},
   "outputs": [
    {
     "name": "stdout",
     "output_type": "stream",
     "text": [
      "Initial Majority:Minority ratio is 5.28:1\n",
      "Oversampling of minority done such that Majority:Minority ratio is 1:1\n"
     ]
    }
   ],
   "source": [
    "training_final = oversample_minority(training, ratio=1)"
   ]
  },
  {
   "cell_type": "code",
   "execution_count": 98,
   "id": "dd62ea70-0c49-499c-a24f-cb94d268927e",
   "metadata": {},
   "outputs": [
    {
     "name": "stdout",
     "output_type": "stream",
     "text": [
      "+---------+--------------------+\n",
      "|frontpage|            features|\n",
      "+---------+--------------------+\n",
      "|        0|(262144,[161,440,...|\n",
      "|        0|(262144,[1578,212...|\n",
      "|        0|(262144,[654,2139...|\n",
      "|        0|(262144,[1296,333...|\n",
      "|        0|(262144,[101,873,...|\n",
      "|        0|(262144,[6,303,33...|\n",
      "|        0|(262144,[303,1578...|\n",
      "|        0|(262144,[619,666,...|\n",
      "|        0|(262144,[161,2701...|\n",
      "|        0|(262144,[921,991,...|\n",
      "|        0|(262144,[1152,213...|\n",
      "|        0|(262144,[2701,332...|\n",
      "|        0|(262144,[1007,300...|\n",
      "|        0|(262144,[161,329,...|\n",
      "|        0|(262144,[154,161,...|\n",
      "|        0|(262144,[1277,230...|\n",
      "|        0|(262144,[706,873,...|\n",
      "|        0|(262144,[1179,230...|\n",
      "|        0|(262144,[1546,356...|\n",
      "|        0|(262144,[161,991,...|\n",
      "+---------+--------------------+\n",
      "only showing top 20 rows\n",
      "\n"
     ]
    }
   ],
   "source": [
    "training_final.show()"
   ]
  },
  {
   "cell_type": "code",
   "execution_count": 99,
   "id": "072f43ee-79b5-4276-afdc-e095b79b27ea",
   "metadata": {},
   "outputs": [
    {
     "name": "stdout",
     "output_type": "stream",
     "text": [
      "Count of positive cases: 665\n",
      "Count of negative cases: 704\n"
     ]
    }
   ],
   "source": [
    "print('Count of positive cases:', training_final.select('frontpage').where(training_final.frontpage==0).count())\n",
    "print('Count of negative cases:', training_final.select('frontpage').where(training_final.frontpage==1).count())"
   ]
  },
  {
   "cell_type": "markdown",
   "id": "c1297289-7137-4214-8993-d6153c4b5b04",
   "metadata": {},
   "source": [
    "## Model training and evaluation"
   ]
  },
  {
   "cell_type": "markdown",
   "id": "9b942954-8b85-4d36-bb58-f07e4bff9c9b",
   "metadata": {},
   "source": [
    "### Model 1: Naive Bayes"
   ]
  },
  {
   "cell_type": "code",
   "execution_count": 101,
   "id": "01bff714-dbea-4894-8819-0b307f7b7cbd",
   "metadata": {},
   "outputs": [],
   "source": [
    "from pyspark.ml.classification import NaiveBayes\n",
    "from pyspark.ml.evaluation import MulticlassClassificationEvaluator\n",
    "\n",
    "# create the trainer and set its parameters\n",
    "nb = NaiveBayes(smoothing=1.0, modelType=\"multinomial\", featuresCol='features', labelCol='frontpage')\n",
    "\n",
    "# train the model\n",
    "nbm = nb.fit(train)"
   ]
  },
  {
   "cell_type": "code",
   "execution_count": 102,
   "id": "5f98257c-ebba-4442-a33b-2e2ab42560a9",
   "metadata": {},
   "outputs": [
    {
     "name": "stdout",
     "output_type": "stream",
     "text": [
      "+---------+--------------------+--------------------+--------------------+----------+\n",
      "|frontpage|            features|       rawPrediction|         probability|prediction|\n",
      "+---------+--------------------+--------------------+--------------------+----------+\n",
      "|        0|      (262144,[],[])|[-0.7485769854992...|[0.47303921568627...|       1.0|\n",
      "|        0|      (262144,[],[])|[-0.7485769854992...|[0.47303921568627...|       1.0|\n",
      "|        0|(262144,[154,161,...|[-94712.499142515...|[1.0,7.6786343743...|       0.0|\n",
      "|        0|(262144,[161,329,...|[-27295.348303823...|[0.99999999891211...|       0.0|\n",
      "|        0|(262144,[161,991,...|[-21942.381763917...|[3.48197865980789...|       1.0|\n",
      "|        0|(262144,[161,2409...|[-8071.3385806557...|[0.99999999116115...|       0.0|\n",
      "|        0|(262144,[216,1125...|[-6643.6679756373...|[0.99999993261046...|       0.0|\n",
      "|        0|(262144,[329,424,...|[-8361.2432380027...|[1.06902030005976...|       1.0|\n",
      "|        0|(262144,[329,467,...|[-83552.731576905...|[7.38355025897178...|       1.0|\n",
      "|        0|(262144,[429,991,...|[-11922.970317987...|[2.20809415666710...|       1.0|\n",
      "|        0|(262144,[495,583,...|[-17627.958513990...|[1.0,2.4465995010...|       0.0|\n",
      "|        0|(262144,[521,1007...|[-9218.5296432189...|[1.0,2.7960358018...|       0.0|\n",
      "|        0|(262144,[521,1097...|[-17303.276554025...|[0.22580674330827...|       1.0|\n",
      "|        0|(262144,[521,1303...|[-11531.101184115...|[1.0,8.2261274025...|       0.0|\n",
      "|        0|(262144,[619,666,...|[-22357.494698604...|[8.68781234851171...|       1.0|\n",
      "|        0|(262144,[619,3564...|[-1363.1773980284...|[0.94802608964954...|       0.0|\n",
      "|        0|(262144,[648,873,...|[-56006.888226296...|           [0.0,1.0]|       1.0|\n",
      "|        0|(262144,[654,2139...|[-6282.5909488670...|[1.0,9.2428423935...|       0.0|\n",
      "|        0|(262144,[654,5113...|[-4646.4542359388...|[0.99999999998993...|       0.0|\n",
      "|        0|(262144,[706,873,...|[-59636.155333192...|           [0.0,1.0]|       1.0|\n",
      "+---------+--------------------+--------------------+--------------------+----------+\n",
      "only showing top 20 rows\n",
      "\n",
      "Test set accuracy = 0.7891891891891892\n"
     ]
    }
   ],
   "source": [
    "# select example rows to display.\n",
    "predictions = nbm.transform(test)\n",
    "predictions.show()\n",
    "\n",
    "# compute accuracy on the test set\n",
    "evaluator = MulticlassClassificationEvaluator(labelCol=\"frontpage\", predictionCol=\"prediction\",\n",
    "                                              metricName=\"accuracy\")\n",
    "accuracy = evaluator.evaluate(predictions)\n",
    "print(\"Test set accuracy = \" + str(accuracy))"
   ]
  },
  {
   "cell_type": "code",
   "execution_count": 103,
   "id": "67ed6d54-fc57-40d9-8662-dcb2e5c39fa7",
   "metadata": {},
   "outputs": [],
   "source": [
    "# Save the model to the local file, please define own local directory here\n",
    "\n",
    "model_path = 'C:/Users/Admin/Advanced Analytics for Bid Data World/Assignment 3/models/naive_bayes'\n",
    "naive_bayes = nbm.save(model_path)"
   ]
  },
  {
   "cell_type": "markdown",
   "id": "f8adbdf4-60fe-4c58-8f90-7a3836c860dc",
   "metadata": {},
   "source": [
    "## Model deployment"
   ]
  },
  {
   "cell_type": "markdown",
   "id": "c70ca762-0172-4033-b1ea-998c1e49dec7",
   "metadata": {},
   "source": [
    "There are two goals:\n",
    "(1) save the model\n",
    "(2) preprocessing the incoming message."
   ]
  },
  {
   "cell_type": "code",
   "execution_count": 40,
   "id": "3bab3fa3-ef7c-457a-9779-e8f8a37e7d99",
   "metadata": {},
   "outputs": [],
   "source": [
    "import threading\n",
    "\n",
    "# Helper thread to avoid the Spark StreamingContext from blocking Jupyter\n",
    "        \n",
    "class StreamingThread(threading.Thread):\n",
    "    def __init__(self, ssc):\n",
    "        super().__init__()\n",
    "        self.ssc = ssc\n",
    "    def run(self):\n",
    "        self.ssc.start()\n",
    "        self.ssc.awaitTermination()\n",
    "    def stop(self):\n",
    "        print('----- Stopping... this may take a few seconds -----')\n",
    "        self.ssc.stop(stopSparkContext=False, stopGraceFully=True)"
   ]
  },
  {
   "cell_type": "code",
   "execution_count": 41,
   "id": "97ef99a8-bd92-4d5d-996d-fc224c1152ea",
   "metadata": {},
   "outputs": [],
   "source": [
    "from pyspark.streaming import StreamingContext\n",
    "from pyspark.sql import Row\n",
    "from pyspark.sql.functions import udf, struct, array, col, lit\n",
    "from pyspark.sql.types import StringType, FloatType"
   ]
  },
  {
   "cell_type": "code",
   "execution_count": 42,
   "id": "9a9e1409-98a9-4c50-800e-23861261dd98",
   "metadata": {},
   "outputs": [],
   "source": [
    "from pyspark.ml.classification import NaiveBayesModel"
   ]
  },
  {
   "cell_type": "code",
   "execution_count": 104,
   "id": "cb5be764-0de4-46d3-9e4d-657912ad5150",
   "metadata": {},
   "outputs": [],
   "source": [
    "globals()['models_loaded'] = False\n",
    "globals()['my_model'] = None\n",
    "\n",
    "# Define the prediction function\n",
    "#def predict(df):\n",
    "    #return globals()['my_model'].transform(df)\n",
    "\n",
    "#predict_udf = udf(predict, FloatType())\n",
    "\n",
    "# The final function\n",
    "def process(time, rdd):\n",
    "    if rdd.isEmpty():\n",
    "        return\n",
    "    \n",
    "    print(\"========= %s =========\" % str(time))\n",
    "    \n",
    "    # Convert to data frame\n",
    "    df_stream = spark.read.json(rdd)\n",
    "    df_stream = df_stream.select(col('source_text'), col('frontpage'))\n",
    "    #df_stream.show()\n",
    "    \n",
    "    # Remove punctuations\n",
    "    df_punc_drop_stream = df_stream.withColumn('source_text', regexp_replace(df_stream.source_text, '[^a-zA-Z0-9]', ' '))\n",
    "    \n",
    "    # Transformed with tokens\n",
    "    df_token_stream = Tokenizer(inputCol=\"source_text\", outputCol=\"tokens\").transform(df_punc_drop_stream)\n",
    "    #df_token_stream.show()\n",
    "    \n",
    "    # Remove stopwords\n",
    "    df_clean_stream = stopwords.transform(df_token_stream)\n",
    "    #df_clean_stream.show()\n",
    "    \n",
    "    # Apply Word2Vec\n",
    "    #result_stream = word_embed.transform(df_clean_stream)\n",
    "\n",
    "    # Apply TF-IDF\n",
    "    featurizedData_stream = hashingTF.transform(df_clean_stream)\n",
    "    rescaledData_stream = idfModel.transform(featurizedData_stream)\n",
    "    \n",
    "    # Finalized the training data\n",
    "    training_stream = rescaledData_stream.drop('source_text','tokens','words')\n",
    "    #training_stream.show()\n",
    "\n",
    "    # Make predictions with the selected model\n",
    "    if not globals()['models_loaded']:\n",
    "        # load in your models here\n",
    "        globals()['my_model'] = NaiveBayesModel.load(model_path)\n",
    "        globals()['models_loaded'] = True\n",
    "        \n",
    "    # And then predict using the loaded model (uncomment below):\n",
    "    \n",
    "    df_result = globals()['my_model'].transform(training_stream)\n",
    "    df_result.show()"
   ]
  },
  {
   "cell_type": "markdown",
   "id": "8b6db464-0cf1-4607-9243-98c60a8c811d",
   "metadata": {},
   "source": [
    "## Streaming prediction"
   ]
  },
  {
   "cell_type": "code",
   "execution_count": 105,
   "id": "914382e2-8e5a-48c4-b7cc-bc7ce388cd42",
   "metadata": {},
   "outputs": [],
   "source": [
    "ssc = StreamingContext(sc, 10)"
   ]
  },
  {
   "cell_type": "code",
   "execution_count": 106,
   "id": "5f706a4c-a545-4513-acb0-46fe490113e9",
   "metadata": {},
   "outputs": [],
   "source": [
    "lines = ssc.socketTextStream(\"seppe.net\", 7778)\n",
    "lines.foreachRDD(process)"
   ]
  },
  {
   "cell_type": "code",
   "execution_count": 107,
   "id": "49c4bfc6-7f04-46c4-8b63-9f26859584f5",
   "metadata": {},
   "outputs": [
    {
     "name": "stdout",
     "output_type": "stream",
     "text": [
      "========= 2024-05-22 00:13:30 =========\n",
      "+---------+--------------------+--------------------+--------------------+--------------------+----------+\n",
      "|frontpage|         rawFeatures|            features|       rawPrediction|         probability|prediction|\n",
      "+---------+--------------------+--------------------+--------------------+--------------------+----------+\n",
      "|    false|(262144,[161,1546...|(262144,[161,1546...|[-4835.5888549435...|[1.81820577465556...|       1.0|\n",
      "|     true|(262144,[300,654,...|(262144,[300,654,...|[-27998.635831693...|[1.0,5.2292637938...|       0.0|\n",
      "+---------+--------------------+--------------------+--------------------+--------------------+----------+\n",
      "\n",
      "========= 2024-05-22 00:13:40 =========\n",
      "+---------+--------------------+--------------------+--------------------+--------------------+----------+\n",
      "|frontpage|         rawFeatures|            features|       rawPrediction|         probability|prediction|\n",
      "+---------+--------------------+--------------------+--------------------+--------------------+----------+\n",
      "|    false|(262144,[991,1096...|(262144,[991,1096...|[-18213.338829347...|[1.0,1.1970201045...|       0.0|\n",
      "|    false|(262144,[2766,356...|(262144,[2766,356...|[-32639.123946077...|[7.59348814365976...|       1.0|\n",
      "|    false|(262144,[968,991,...|(262144,[968,991,...|[-37171.294181524...|[1.0,1.2042979369...|       0.0|\n",
      "|    false|(262144,[1206,212...|(262144,[1206,212...|[-33425.175375625...|[1.0,4.0640942517...|       0.0|\n",
      "+---------+--------------------+--------------------+--------------------+--------------------+----------+\n",
      "\n",
      "========= 2024-05-22 00:13:50 =========\n",
      "+---------+--------------------+--------------------+--------------------+--------------------+----------+\n",
      "|frontpage|         rawFeatures|            features|       rawPrediction|         probability|prediction|\n",
      "+---------+--------------------+--------------------+--------------------+--------------------+----------+\n",
      "|    false|(262144,[5098,522...|(262144,[5098,522...|[-17308.064696461...|[1.0,1.2623846045...|       0.0|\n",
      "|    false|(262144,[4625,507...|(262144,[4625,507...|[-1444.4924457685...|[1.80398796368039...|       1.0|\n",
      "|    false|(262144,[2101,359...|(262144,[2101,359...|[-14163.393716266...|[1.0,3.9038222182...|       0.0|\n",
      "+---------+--------------------+--------------------+--------------------+--------------------+----------+\n",
      "\n",
      "========= 2024-05-22 00:14:00 =========\n",
      "+---------+--------------------+--------------------+--------------------+--------------------+----------+\n",
      "|frontpage|         rawFeatures|            features|       rawPrediction|         probability|prediction|\n",
      "+---------+--------------------+--------------------+--------------------+--------------------+----------+\n",
      "|    false|(262144,[612,925,...|(262144,[612,925,...|[-37520.179724566...|[4.87436576199504...|       1.0|\n",
      "|    false|(262144,[58,154,1...|(262144,[58,154,1...|[-267142.18741198...|           [1.0,0.0]|       0.0|\n",
      "|    false|(262144,[2437,278...|(262144,[2437,278...|[-14900.987492330...|[1.0,4.0121211792...|       0.0|\n",
      "+---------+--------------------+--------------------+--------------------+--------------------+----------+\n",
      "\n",
      "========= 2024-05-22 00:14:10 =========\n",
      "+---------+--------------------+--------------------+--------------------+--------------------+----------+\n",
      "|frontpage|         rawFeatures|            features|       rawPrediction|         probability|prediction|\n",
      "+---------+--------------------+--------------------+--------------------+--------------------+----------+\n",
      "|    false|(262144,[5078,638...|(262144,[5078,638...|[-1523.4525391516...|[0.99999999999997...|       0.0|\n",
      "|    false|(262144,[968,2306...|(262144,[968,2306...|[-24799.836037157...|[1.15783365572085...|       1.0|\n",
      "|    false|(262144,[199,210,...|(262144,[199,210,...|[-118084.94222438...|           [1.0,0.0]|       0.0|\n",
      "|    false|(262144,[1303,333...|(262144,[1303,333...|[-13338.638878990...|[1.0,4.7784496933...|       0.0|\n",
      "|    false|(262144,[6993,112...|(262144,[6993,112...|[-522.13422268285...|[0.16150851566819...|       1.0|\n",
      "|    false|(262144,[161,1415...|(262144,[161,1415...|[-37603.648499156...|[3.74213632080461...|       1.0|\n",
      "+---------+--------------------+--------------------+--------------------+--------------------+----------+\n",
      "\n",
      "========= 2024-05-22 00:14:20 =========\n",
      "+---------+--------------------+--------------------+--------------------+--------------------+----------+\n",
      "|frontpage|         rawFeatures|            features|       rawPrediction|         probability|prediction|\n",
      "+---------+--------------------+--------------------+--------------------+--------------------+----------+\n",
      "|    false|(262144,[277,810,...|(262144,[277,810,...|[-111694.36238216...|           [0.0,1.0]|       1.0|\n",
      "|     true|(262144,[1546,241...|(262144,[1546,241...|[-23115.700535148...|[2.31973794165828...|       1.0|\n",
      "|     true|(262144,[654,2564...|(262144,[654,2564...|[-14658.929012129...|[3.46152008924633...|       1.0|\n",
      "+---------+--------------------+--------------------+--------------------+--------------------+----------+\n",
      "\n",
      "========= 2024-05-22 00:14:30 =========\n",
      "+---------+--------------------+--------------------+--------------------+--------------------+----------+\n",
      "|frontpage|         rawFeatures|            features|       rawPrediction|         probability|prediction|\n",
      "+---------+--------------------+--------------------+--------------------+--------------------+----------+\n",
      "|     true|(262144,[1521,176...|(262144,[1521,176...|[-40751.528077264...|[1.0,7.1811286679...|       0.0|\n",
      "|    false|(262144,[896,917,...|(262144,[896,917,...|[-123450.47468762...|           [1.0,0.0]|       0.0|\n",
      "|    false|(262144,[144,1206...|(262144,[144,1206...|[-48899.378461311...|           [1.0,0.0]|       0.0|\n",
      "|     true|(262144,[39510,10...|(262144,[39510,10...|[-42.509671487155...|[0.96323627748420...|       0.0|\n",
      "+---------+--------------------+--------------------+--------------------+--------------------+----------+\n",
      "\n",
      "========= 2024-05-22 00:14:40 =========\n",
      "+---------+--------------------+--------------------+--------------------+--------------------+----------+\n",
      "|frontpage|         rawFeatures|            features|       rawPrediction|         probability|prediction|\n",
      "+---------+--------------------+--------------------+--------------------+--------------------+----------+\n",
      "|    false|(262144,[2409,285...|(262144,[2409,285...|[-25617.935376945...|[1.0,3.1075192567...|       0.0|\n",
      "|    false|(262144,[1365,212...|(262144,[1365,212...|[-93910.252765149...|           [1.0,0.0]|       0.0|\n",
      "|     true|(262144,[225,810,...|(262144,[225,810,...|[-101837.28977726...|[1.0,1.6284182344...|       0.0|\n",
      "+---------+--------------------+--------------------+--------------------+--------------------+----------+\n",
      "\n",
      "========= 2024-05-22 00:14:50 =========\n"
     ]
    }
   ],
   "source": [
    "ssc_t = StreamingThread(ssc)\n",
    "ssc_t.start()"
   ]
  },
  {
   "cell_type": "code",
   "execution_count": 108,
   "id": "6ec9618f-9f78-438a-8ed9-cbf4a2d14d57",
   "metadata": {},
   "outputs": [
    {
     "name": "stdout",
     "output_type": "stream",
     "text": [
      "----- Stopping... this may take a few seconds -----\n",
      "+---------+--------------------+--------------------+--------------------+--------------------+----------+\n",
      "|frontpage|         rawFeatures|            features|       rawPrediction|         probability|prediction|\n",
      "+---------+--------------------+--------------------+--------------------+--------------------+----------+\n",
      "|    false|(262144,[182407,1...|(262144,[182407,1...|[-149.85850097250...|[0.74272319138639...|       0.0|\n",
      "|     true|(262144,[1512,177...|(262144,[1512,177...|[-5164.6777065180...|[1.0,1.2552073679...|       0.0|\n",
      "|    false|(262144,[216,921,...|(262144,[216,921,...|[-12447.752652047...|[1.0,5.5545283786...|       0.0|\n",
      "|    false|(262144,[1043,120...|(262144,[1043,120...|[-33190.357608938...|[1.0,3.1690385415...|       0.0|\n",
      "|    false|(262144,[968,1303...|(262144,[968,1303...|[-26542.874416241...|      [1.0,4.4E-323]|       0.0|\n",
      "+---------+--------------------+--------------------+--------------------+--------------------+----------+\n",
      "\n",
      "========= 2024-05-22 00:15:00 =========\n",
      "+---------+--------------------+--------------------+--------------------+--------------------+----------+\n",
      "|frontpage|         rawFeatures|            features|       rawPrediction|         probability|prediction|\n",
      "+---------+--------------------+--------------------+--------------------+--------------------+----------+\n",
      "|     true|(262144,[3436,891...|(262144,[3436,891...|[-1672.0380292838...|[0.99999999999999...|       0.0|\n",
      "|    false|(262144,[154,161,...|(262144,[154,161,...|[-79093.567955980...|[2.19900429135133...|       1.0|\n",
      "|    false|(262144,[1512,228...|(262144,[1512,228...|[-19061.591070537...|[1.69105538601909...|       1.0|\n",
      "|     true|(262144,[1512,181...|(262144,[1512,181...|[-26157.309222270...|[4.42894891300685...|       1.0|\n",
      "|     true|(262144,[1772,210...|(262144,[1772,210...|[-18281.210790664...|[1.0,4.0861209763...|       0.0|\n",
      "+---------+--------------------+--------------------+--------------------+--------------------+----------+\n",
      "\n",
      "========= 2024-05-22 00:15:10 =========\n",
      "+---------+--------------------+--------------------+--------------------+--------------------+----------+\n",
      "|frontpage|         rawFeatures|            features|       rawPrediction|         probability|prediction|\n",
      "+---------+--------------------+--------------------+--------------------+--------------------+----------+\n",
      "|     true|(262144,[161,1578...|(262144,[161,1578...|[-24156.231918570...|[0.99999998701424...|       0.0|\n",
      "|    false|(262144,[619,654,...|(262144,[619,654,...|[-20551.594401096...|[3.80453054528592...|       1.0|\n",
      "|    false|(262144,[1546,321...|(262144,[1546,321...|[-18669.339451110...|[0.99999974850773...|       0.0|\n",
      "+---------+--------------------+--------------------+--------------------+--------------------+----------+\n",
      "\n"
     ]
    }
   ],
   "source": [
    "ssc_t.stop()"
   ]
  },
  {
   "cell_type": "code",
   "execution_count": null,
   "id": "0faafa38-c1a4-44f6-a57c-cfcc263edd6d",
   "metadata": {},
   "outputs": [],
   "source": []
  }
 ],
 "metadata": {
  "kernelspec": {
   "display_name": "Python 3 (ipykernel)",
   "language": "python",
   "name": "python3"
  },
  "language_info": {
   "codemirror_mode": {
    "name": "ipython",
    "version": 3
   },
   "file_extension": ".py",
   "mimetype": "text/x-python",
   "name": "python",
   "nbconvert_exporter": "python",
   "pygments_lexer": "ipython3",
   "version": "3.11.7"
  }
 },
 "nbformat": 4,
 "nbformat_minor": 5
}
