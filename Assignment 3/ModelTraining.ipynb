{
 "cells": [
  {
   "cell_type": "code",
   "execution_count": null,
   "id": "5158506c-f797-4829-8f48-d05b2a6ee7b3",
   "metadata": {},
   "outputs": [],
   "source": [
    "#Every 7 days, train a new model\n",
    "#Objective (Get all possible observations of the week, and then train)\n",
    "\n",
    "#First way:\n",
    "#For this: -Make sure that the last date in the data (Weekly data) is the last date we'll use to train\n",
    "#-For this, in Data Creation, make sure that only rows belonging to that week are processed, set a date threshold, and update this date threshold as time goes on\n",
    "#-Run Data Creation whenever it is sure that all rows belonging to that week have been processed (What time is this ?)\n",
    "\n",
    "#Second way:\n",
    "#For this: -Run Data Creation whenever it is sure that all rows belonging to that week have been processed (Whenever there is data from next week) (What time is this?) \n",
    "#-Get the x weeks prior to that date\n",
    "#x = number of weeks used to train\n",
    "#if todays date == :\n",
    "    #then train on last x weeks of data"
   ]
  }
 ],
 "metadata": {
  "kernelspec": {
   "display_name": "Python 3 (ipykernel)",
   "language": "python",
   "name": "python3"
  },
  "language_info": {
   "codemirror_mode": {
    "name": "ipython",
    "version": 3
   },
   "file_extension": ".py",
   "mimetype": "text/x-python",
   "name": "python",
   "nbconvert_exporter": "python",
   "pygments_lexer": "ipython3",
   "version": "3.8.19"
  }
 },
 "nbformat": 4,
 "nbformat_minor": 5
}
